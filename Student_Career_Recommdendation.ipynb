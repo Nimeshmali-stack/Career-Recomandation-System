{
  "cells": [
    {
      "cell_type": "markdown",
      "metadata": {
        "id": "t6ANfuV3giSf"
      },
      "source": [
        "# Student Career Pathway Recommender\n",
        "\n",
        "This notebook implements a career recommender agent that suggests career paths based on student interests, hobbies, and academic strengths using LangChain and a free LLM from Hugging Face."
      ]
    },
    {
      "cell_type": "code",
      "source": [
        "#  Install required libraries\n",
        "!pip install -q transformers gradio\n",
        "\n",
        "#  Import Libraries\n",
        "from transformers import pipeline\n",
        "import gradio as gr\n",
        "import json\n",
        "\n",
        "#  Load a text-generation model\n",
        "recommender = pipeline(\"text-generation\", model=\"sshleifer/tiny-gpt2\")\n",
        "\n",
        "# Define career domain mapping\n",
        "career_map = {\n",
        "    \"math\": \"STEM\",\n",
        "    \"coding\": \"STEM\",\n",
        "    \"science\": \"STEM\",\n",
        "    \"biology\": \"STEM\",\n",
        "    \"physics\": \"STEM\",\n",
        "    \"chemistry\": \"STEM\",\n",
        "    \"drawing\": \"Arts\",\n",
        "    \"music\": \"Arts\",\n",
        "    \"writing\": \"Arts\",\n",
        "    \"painting\": \"Arts\",\n",
        "    \"photography\": \"Arts\",\n",
        "    \"soccer\": \"Sports\",\n",
        "    \"cricket\": \"Sports\",\n",
        "    \"basketball\": \"Sports\",\n",
        "    \"fitness\": \"Sports\",\n",
        "    \"coaching\": \"Sports\"\n",
        "}\n",
        "\n",
        "#  Domain-based career options\n",
        "career_options = {\n",
        "    \"STEM\": [\n",
        "        (\"Software Engineer\", \"Uses your love for coding and math to build software.\"),\n",
        "        (\"Data Scientist\", \"Applies math and science to analyze and solve real-world problems.\"),\n",
        "        (\"Mechanical Engineer\", \"Designs machines using physics and problem-solving skills.\"),\n",
        "        (\"Research Scientist\", \"Explores scientific questions and experiments.\")\n",
        "    ],\n",
        "    \"Arts\": [\n",
        "        (\"Graphic Designer\", \"Combines art and technology to create visuals.\"),\n",
        "        (\"Writer\", \"Uses creativity and language skills to communicate ideas.\"),\n",
        "        (\"Musician\", \"Expresses emotion and creativity through music.\"),\n",
        "        (\"Photographer\", \"Captures stories and scenes visually.\")\n",
        "    ],\n",
        "    \"Sports\": [\n",
        "        (\"Athletic Coach\", \"Trains athletes and helps improve performance.\"),\n",
        "        (\"Sports Analyst\", \"Uses data to evaluate sports performance.\"),\n",
        "        (\"Fitness Trainer\", \"Helps others stay fit and active.\"),\n",
        "        (\"Professional Athlete\", \"Pursues sports competitively.\")\n",
        "    ],\n",
        "    \"General\": [\n",
        "        (\"Teacher\", \"Helps educate and guide students.\"),\n",
        "        (\"Entrepreneur\", \"Builds new businesses based on passion areas.\"),\n",
        "        (\"Journalist\", \"Researches and reports on current events.\")\n",
        "    ]\n",
        "}\n",
        "\n",
        "#  Extract matching domains\n",
        "\n",
        "def get_domains(user_input):\n",
        "    domains = set()\n",
        "    for keyword, domain in career_map.items():\n",
        "        if keyword in user_input.lower():\n",
        "            domains.add(domain)\n",
        "    return list(domains) if domains else [\"General\"]\n",
        "\n",
        "# Career Recommender Logic\n",
        "\n",
        "def recommend_all_careers(user_input):\n",
        "    if len(user_input.strip().split()) < 4:\n",
        "        return json.dumps({\n",
        "            \"fallback\": True,\n",
        "            \"message\": \"Please provide more detail about your interests, hobbies, or strengths.\"\n",
        "        }, indent=2)\n",
        "\n",
        "    matched_domains = get_domains(user_input)\n",
        "    all_recommendations = []\n",
        "\n",
        "    for domain in matched_domains:\n",
        "        for career, explanation in career_options.get(domain, []):\n",
        "            all_recommendations.append({\n",
        "                \"career_path\": career,\n",
        "                \"explanation\": explanation\n",
        "            })\n",
        "\n",
        "    return json.dumps({\n",
        "        \"matched_domains\": matched_domains,\n",
        "        \"recommendations\": all_recommendations\n",
        "    }, indent=2)\n",
        "\n",
        "#  Gradio GUI\n",
        "with gr.Blocks() as demo:\n",
        "    gr.Markdown(\"\"\"\n",
        "    # 🎓 Student Career Pathway Recommender\n",
        "    Enter your interests, hobbies, and academic strengths below to receive multiple career suggestions with explanations.\n",
        "    \"\"\")\n",
        "\n",
        "    user_input = gr.Textbox(label=\"Enter your interests and strengths\")\n",
        "    output = gr.Code(label=\"Career Recommendations (JSON)\")\n",
        "    btn = gr.Button(\"Get Recommendations\")\n",
        "\n",
        "    btn.click(fn=recommend_all_careers, inputs=user_input, outputs=output)\n",
        "\n",
        "# Launch\n",
        "demo.launch(share=True)\n"
      ],
      "metadata": {
        "id": "9DSxOjoCS6N_"
      },
      "execution_count": null,
      "outputs": []
    },
    {
      "cell_type": "markdown",
      "source": [
        "# New Section"
      ],
      "metadata": {
        "id": "0OOXrWFw0nJo"
      }
    },
    {
      "cell_type": "code",
      "source": [],
      "metadata": {
        "id": "EGIoaWdyWxeS"
      },
      "execution_count": null,
      "outputs": []
    }
  ],
  "metadata": {
    "kernelspec": {
      "display_name": "Python 3",
      "name": "python3"
    },
    "language_info": {
      "codemirror_mode": {
        "name": "ipython",
        "version": 3
      },
      "file_extension": ".py",
      "mimetype": "text/x-python",
      "name": "python",
      "nbconvert_exporter": "python",
      "pygments_lexer": "ipython3",
      "version": "3.7.1"
    },
    "colab": {
      "provenance": [],
      "gpuType": "T4"
    },
    "accelerator": "GPU"
  },
  "nbformat": 4,
  "nbformat_minor": 0
}